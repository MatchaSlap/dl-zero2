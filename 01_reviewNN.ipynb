{
 "cells": [
  {
   "cell_type": "code",
   "execution_count": 1,
   "metadata": {},
   "outputs": [],
   "source": [
    "import numpy as np"
   ]
  },
  {
   "cell_type": "code",
   "execution_count": 2,
   "metadata": {},
   "outputs": [],
   "source": [
    "def pm(*ms):\n",
    "    for i,m in enumerate(ms):\n",
    "        print(\"index:{},shape:{},rank:{}\".format(i,m.shape,m.ndim))"
   ]
  },
  {
   "cell_type": "markdown",
   "metadata": {},
   "source": [
    "## Prepare"
   ]
  },
  {
   "cell_type": "code",
   "execution_count": 30,
   "metadata": {},
   "outputs": [
    {
     "data": {
      "text/plain": [
       "array([[-0.71629581,  2.799676  ,  2.18470569],\n",
       "       [-0.55949239,  2.15311633,  2.77822236],\n",
       "       [-0.39494818,  1.9891748 ,  2.64968272],\n",
       "       [-0.15441442,  2.21104939,  2.15331776],\n",
       "       [-0.64851093,  2.41709039,  2.61735069],\n",
       "       [-0.90408803,  2.77669098,  2.4331094 ],\n",
       "       [-0.55319724,  2.1395377 ,  2.78422708],\n",
       "       [-0.51105916,  2.51736081,  2.31662884],\n",
       "       [-0.55649016,  2.1946858 ,  2.7170777 ],\n",
       "       [-0.38398499,  2.27445529,  2.35290124]])"
      ]
     },
     "execution_count": 30,
     "metadata": {},
     "output_type": "execute_result"
    }
   ],
   "source": [
    "x = np.random.randn(10, 2)\n",
    "W1 = np.random.randn(2,4)\n",
    "b1 = np.random.randn(4)\n",
    "W2 = np.random.randn(4,3)\n",
    "b2 = np.random.randn(3)\n",
    "\n",
    "h = np.dot(x,W1) + b1\n",
    "a  =sigmoid(h)\n",
    "s = np.dot(a, W2) + b2\n",
    "s"
   ]
  },
  {
   "cell_type": "code",
   "execution_count": 31,
   "metadata": {},
   "outputs": [
    {
     "name": "stdout",
     "output_type": "stream",
     "text": [
      "index:0,shape:(10, 3),rank:2\n"
     ]
    }
   ],
   "source": [
    "pm(s)"
   ]
  },
  {
   "cell_type": "code",
   "execution_count": 27,
   "metadata": {},
   "outputs": [],
   "source": [
    "def sigmoid(x):\n",
    "    return 1 / (1 + np.exp(-x))"
   ]
  },
  {
   "cell_type": "code",
   "execution_count": 29,
   "metadata": {},
   "outputs": [],
   "source": [
    "a = sigmoid(h)"
   ]
  },
  {
   "cell_type": "markdown",
   "metadata": {},
   "source": [
    "## Predict"
   ]
  },
  {
   "cell_type": "code",
   "execution_count": 40,
   "metadata": {},
   "outputs": [],
   "source": [
    "from ch01 import forword_net"
   ]
  },
  {
   "cell_type": "code",
   "execution_count": 49,
   "metadata": {},
   "outputs": [
    {
     "name": "stdout",
     "output_type": "stream",
     "text": [
      "index:0,shape:(10, 3),rank:2\n"
     ]
    }
   ],
   "source": [
    "x = np.random.randn(10, 2)\n",
    "model = forword_net.TwoLayerNet(2, 4, 3)\n",
    "s = model.predict(x)\n",
    "pm(s)"
   ]
  },
  {
   "cell_type": "code",
   "execution_count": 48,
   "metadata": {},
   "outputs": [
    {
     "data": {
      "text/plain": [
       "array([[ 2.82254144, -0.87373137,  0.47625179],\n",
       "       [ 3.04401091, -0.34234905,  0.13773122],\n",
       "       [ 2.99978701, -0.4399358 ,  0.30694707],\n",
       "       [ 2.62662294, -1.11250918,  0.29986655],\n",
       "       [ 2.05980612, -1.86526055,  0.54016018],\n",
       "       [ 2.8930618 , -0.53985923,  0.12475014],\n",
       "       [ 2.44359711, -1.45832013,  0.39831716],\n",
       "       [ 2.87441235, -0.83711403,  0.56880156],\n",
       "       [ 2.42833591, -1.48586978,  0.41041847],\n",
       "       [ 3.09639714, -0.30113925,  0.1692223 ]])"
      ]
     },
     "execution_count": 48,
     "metadata": {},
     "output_type": "execute_result"
    }
   ],
   "source": [
    "s"
   ]
  },
  {
   "cell_type": "code",
   "execution_count": 52,
   "metadata": {},
   "outputs": [
    {
     "data": {
      "text/plain": [
       "[array([[ 0.66735493,  1.77254263, -0.27076163,  0.8220813 ],\n",
       "        [ 0.5070257 ,  0.28509452,  0.61049283, -1.06534189]]),\n",
       " array([-0.09157509,  0.59529606,  1.87544239, -2.01344857]),\n",
       " array([[ 0.60323039,  0.34306369,  1.2467637 ],\n",
       "        [ 1.52012525,  1.48465404,  0.91266308],\n",
       "        [-0.24463356,  0.02323974, -1.91616835],\n",
       "        [ 0.25569505, -0.60946852,  0.44644977]]),\n",
       " array([ 1.09649852, -0.52402659,  1.86343263])]"
      ]
     },
     "execution_count": 52,
     "metadata": {},
     "output_type": "execute_result"
    }
   ],
   "source": [
    "model.params"
   ]
  },
  {
   "cell_type": "code",
   "execution_count": 53,
   "metadata": {},
   "outputs": [
    {
     "name": "stdout",
     "output_type": "stream",
     "text": [
      "index:0,shape:(10, 3),rank:2\n"
     ]
    }
   ],
   "source": [
    "pm(s)"
   ]
  },
  {
   "cell_type": "code",
   "execution_count": 54,
   "metadata": {},
   "outputs": [
    {
     "data": {
      "text/plain": [
       "array([[ 1.70312965,  0.17687815,  0.98942505],\n",
       "       [ 1.93082233,  0.3725506 ,  1.18566911],\n",
       "       [ 1.8589418 ,  0.23834165,  1.18643107],\n",
       "       [ 2.00155692,  0.45234228,  1.24158964],\n",
       "       [ 2.28177511,  0.58300471,  1.56268106],\n",
       "       [ 2.39553019,  0.70161215,  1.64639124],\n",
       "       [ 1.71804258,  0.15134549,  1.03482696],\n",
       "       [ 2.8976662 ,  0.9416627 ,  2.28448957],\n",
       "       [ 2.83727188,  1.05368009,  2.09946272],\n",
       "       [ 1.0363413 , -0.38949938,  0.32229388]])"
      ]
     },
     "execution_count": 54,
     "metadata": {},
     "output_type": "execute_result"
    }
   ],
   "source": [
    "s"
   ]
  },
  {
   "cell_type": "code",
   "execution_count": 57,
   "metadata": {},
   "outputs": [
    {
     "data": {
      "text/plain": [
       "array([[-1.19453656, -0.87680194, -1.29506453],\n",
       "       [-0.96684388, -0.6811295 , -1.09882046],\n",
       "       [-1.03872441, -0.81533845, -1.09805851],\n",
       "       [-0.89610928, -0.60133782, -1.04289994],\n",
       "       [-0.6158911 , -0.47067538, -0.72180851],\n",
       "       [-0.50213601, -0.35206795, -0.63809834],\n",
       "       [-1.17962362, -0.90233461, -1.24966261],\n",
       "       [ 0.        , -0.1120174 ,  0.        ],\n",
       "       [-0.06039432,  0.        , -0.18502685],\n",
       "       [-1.86132491, -1.44317947, -1.9621957 ]])"
      ]
     },
     "execution_count": 57,
     "metadata": {},
     "output_type": "execute_result"
    }
   ],
   "source": [
    "s - np.max(s, axis=0)"
   ]
  },
  {
   "cell_type": "code",
   "execution_count": 61,
   "metadata": {},
   "outputs": [
    {
     "data": {
      "text/plain": [
       "array([2.8976662 , 1.05368009, 2.28448957])"
      ]
     },
     "execution_count": 61,
     "metadata": {},
     "output_type": "execute_result"
    }
   ],
   "source": [
    "np.max(s, axis=0)"
   ]
  },
  {
   "cell_type": "code",
   "execution_count": 62,
   "metadata": {},
   "outputs": [
    {
     "data": {
      "text/plain": [
       "array([0, 1, 2, 3, 4, 5, 6, 7, 8, 9])"
      ]
     },
     "execution_count": 62,
     "metadata": {},
     "output_type": "execute_result"
    }
   ],
   "source": [
    "np.arange(10)"
   ]
  },
  {
   "cell_type": "markdown",
   "metadata": {},
   "source": [
    "## Back Propagation"
   ]
  },
  {
   "cell_type": "code",
   "execution_count": 3,
   "metadata": {},
   "outputs": [],
   "source": [
    "# Repeat Node\n",
    "import numpy as np\n",
    "D, N = 8,7\n",
    "x = np.random.randn(1, D)\n",
    "y = np.repeat(x, N, axis=0)"
   ]
  },
  {
   "cell_type": "code",
   "execution_count": 6,
   "metadata": {},
   "outputs": [
    {
     "name": "stdout",
     "output_type": "stream",
     "text": [
      "index:0,shape:(7, 8),rank:2\n"
     ]
    }
   ],
   "source": [
    "pm(y)"
   ]
  },
  {
   "cell_type": "code",
   "execution_count": 7,
   "metadata": {},
   "outputs": [
    {
     "data": {
      "text/plain": [
       "array([[ 0.1850539 ,  0.03134308, -0.72727074,  0.50549781, -0.69952442,\n",
       "        -0.16474867,  0.16753002, -0.77198819],\n",
       "       [ 0.1850539 ,  0.03134308, -0.72727074,  0.50549781, -0.69952442,\n",
       "        -0.16474867,  0.16753002, -0.77198819],\n",
       "       [ 0.1850539 ,  0.03134308, -0.72727074,  0.50549781, -0.69952442,\n",
       "        -0.16474867,  0.16753002, -0.77198819],\n",
       "       [ 0.1850539 ,  0.03134308, -0.72727074,  0.50549781, -0.69952442,\n",
       "        -0.16474867,  0.16753002, -0.77198819],\n",
       "       [ 0.1850539 ,  0.03134308, -0.72727074,  0.50549781, -0.69952442,\n",
       "        -0.16474867,  0.16753002, -0.77198819],\n",
       "       [ 0.1850539 ,  0.03134308, -0.72727074,  0.50549781, -0.69952442,\n",
       "        -0.16474867,  0.16753002, -0.77198819],\n",
       "       [ 0.1850539 ,  0.03134308, -0.72727074,  0.50549781, -0.69952442,\n",
       "        -0.16474867,  0.16753002, -0.77198819]])"
      ]
     },
     "execution_count": 7,
     "metadata": {},
     "output_type": "execute_result"
    }
   ],
   "source": [
    "y"
   ]
  },
  {
   "cell_type": "code",
   "execution_count": 8,
   "metadata": {},
   "outputs": [],
   "source": [
    "dy = np.random.randn(N, D)\n",
    "dx = np.sum(dy, axis=0, keepdims=True)"
   ]
  },
  {
   "cell_type": "code",
   "execution_count": 12,
   "metadata": {},
   "outputs": [],
   "source": [
    "# Sum Node\n",
    "import numpy as np\n",
    "D, N = 8,7\n",
    "x = np.random.randn(N, D)\n",
    "y = np.sum(x, axis=0, keepdims=True)"
   ]
  },
  {
   "cell_type": "code",
   "execution_count": 13,
   "metadata": {},
   "outputs": [
    {
     "name": "stdout",
     "output_type": "stream",
     "text": [
      "index:0,shape:(7, 8),rank:2\n",
      "index:1,shape:(1, 8),rank:2\n"
     ]
    }
   ],
   "source": [
    "pm(x,y)"
   ]
  },
  {
   "cell_type": "code",
   "execution_count": 15,
   "metadata": {},
   "outputs": [],
   "source": [
    "dy = np.random.randn(1, D)\n",
    "dx = np.repeat(dy, N, axis=0)"
   ]
  },
  {
   "cell_type": "code",
   "execution_count": 16,
   "metadata": {},
   "outputs": [
    {
     "name": "stdout",
     "output_type": "stream",
     "text": [
      "index:0,shape:(7, 8),rank:2\n",
      "index:1,shape:(1, 8),rank:2\n"
     ]
    }
   ],
   "source": [
    "pm(dx,dy)"
   ]
  },
  {
   "cell_type": "code",
   "execution_count": 53,
   "metadata": {
    "scrolled": true
   },
   "outputs": [],
   "source": [
    "from common import layers"
   ]
  },
  {
   "cell_type": "code",
   "execution_count": 45,
   "metadata": {},
   "outputs": [],
   "source": [
    "D, H = 7, 8\n",
    "W = np.random.randn(D, H)\n",
    "x = np.random.randn(1, D)\n",
    "M = layers.MatMul(W)"
   ]
  },
  {
   "cell_type": "code",
   "execution_count": 46,
   "metadata": {},
   "outputs": [],
   "source": [
    "y = M.forward(x)"
   ]
  },
  {
   "cell_type": "code",
   "execution_count": 47,
   "metadata": {},
   "outputs": [],
   "source": [
    "dout = np.random.randn(1,H)\n",
    "dx = M.backward(dout)"
   ]
  },
  {
   "cell_type": "code",
   "execution_count": null,
   "metadata": {},
   "outputs": [],
   "source": [
    "    "
   ]
  }
 ],
 "metadata": {
  "kernelspec": {
   "display_name": "Python 3",
   "language": "python",
   "name": "python3"
  },
  "language_info": {
   "codemirror_mode": {
    "name": "ipython",
    "version": 3
   },
   "file_extension": ".py",
   "mimetype": "text/x-python",
   "name": "python",
   "nbconvert_exporter": "python",
   "pygments_lexer": "ipython3",
   "version": "3.6.6"
  },
  "toc": {
   "base_numbering": 1,
   "nav_menu": {},
   "number_sections": true,
   "sideBar": true,
   "skip_h1_title": false,
   "title_cell": "Table of Contents",
   "title_sidebar": "Contents",
   "toc_cell": false,
   "toc_position": {},
   "toc_section_display": true,
   "toc_window_display": false
  }
 },
 "nbformat": 4,
 "nbformat_minor": 2
}
